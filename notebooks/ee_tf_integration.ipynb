{
 "cells": [
  {
   "cell_type": "code",
   "execution_count": 5,
   "metadata": {},
   "outputs": [],
   "source": [
    "import ee\n",
    "import math\n",
    "import numpy as np\n",
    "import pandas as pd"
   ]
  },
  {
   "cell_type": "code",
   "execution_count": 2,
   "metadata": {},
   "outputs": [],
   "source": [
    "ee.Initialize()"
   ]
  },
  {
   "cell_type": "code",
   "execution_count": 3,
   "metadata": {},
   "outputs": [],
   "source": [
    "collection = ee.ImageCollection('MODIS/006/MOD13Q1')"
   ]
  },
  {
   "cell_type": "code",
   "execution_count": 6,
   "metadata": {},
   "outputs": [],
   "source": [
    "# helper function to extract QA bits\n",
    "def getQABits(image, start, end, newName):\n",
    "    #Compute the bits we need to extract.\n",
    "    pattern = 0;\n",
    "    for i in range(start,end+1):\n",
    "       pattern += math.pow(2, i);\n",
    "\n",
    "    # Return a single band image of the extracted QA bits, giving the band\n",
    "    # a new name.\n",
    "    return image.select([0], [newName])\\\n",
    "                  .bitwiseAnd(int(pattern))\\\n",
    "                  .rightShift(start);\n",
    "        \n",
    "def qualityMask(image):\n",
    "    quality = getQABits(image.select('SummaryQA'),0,1,'qa')\n",
    "    mask = quality.eq(0)\n",
    "    return image.updateMask(mask)\n",
    "\n",
    "qualityCollection = collection.map(qualityMask)"
   ]
  },
  {
   "cell_type": "code",
   "execution_count": 7,
   "metadata": {},
   "outputs": [],
   "source": [
    "def smoothSeries(collection,window):\n",
    "    def smoother(img):\n",
    "        t = ee.Date(img.get('system:time_start'))\n",
    "        val = collection.filterDate(t.advance(-window,'day'),t.advance(window,'day')).mean()\n",
    "        return val.set('system:time_start',t.millis())\n",
    "    return collection.map(smoother)\n",
    "\n",
    "smoothCollection = smoothSeries(qualityCollection,15)"
   ]
  },
  {
   "cell_type": "code",
   "execution_count": 24,
   "metadata": {},
   "outputs": [
    {
     "data": {
      "text/html": [
       "<div>\n",
       "<style scoped>\n",
       "    .dataframe tbody tr th:only-of-type {\n",
       "        vertical-align: middle;\n",
       "    }\n",
       "\n",
       "    .dataframe tbody tr th {\n",
       "        vertical-align: top;\n",
       "    }\n",
       "\n",
       "    .dataframe thead th {\n",
       "        text-align: right;\n",
       "    }\n",
       "</style>\n",
       "<table border=\"1\" class=\"dataframe\">\n",
       "  <thead>\n",
       "    <tr style=\"text-align: right;\">\n",
       "      <th></th>\n",
       "      <th>id</th>\n",
       "      <th>longitude</th>\n",
       "      <th>latitude</th>\n",
       "      <th>time</th>\n",
       "      <th>NDVI</th>\n",
       "    </tr>\n",
       "  </thead>\n",
       "  <tbody>\n",
       "    <tr>\n",
       "      <th>0</th>\n",
       "      <td>2000_02_18</td>\n",
       "      <td>-95.31462</td>\n",
       "      <td>43.308903</td>\n",
       "      <td>950832000000</td>\n",
       "      <td>2020.0</td>\n",
       "    </tr>\n",
       "    <tr>\n",
       "      <th>1</th>\n",
       "      <td>2000_03_05</td>\n",
       "      <td>-95.31462</td>\n",
       "      <td>43.308903</td>\n",
       "      <td>952214400000</td>\n",
       "      <td>1929.0</td>\n",
       "    </tr>\n",
       "    <tr>\n",
       "      <th>2</th>\n",
       "      <td>2000_03_21</td>\n",
       "      <td>-95.31462</td>\n",
       "      <td>43.308903</td>\n",
       "      <td>953596800000</td>\n",
       "      <td>1991.0</td>\n",
       "    </tr>\n",
       "    <tr>\n",
       "      <th>3</th>\n",
       "      <td>2000_04_06</td>\n",
       "      <td>-95.31462</td>\n",
       "      <td>43.308903</td>\n",
       "      <td>954979200000</td>\n",
       "      <td>2058.0</td>\n",
       "    </tr>\n",
       "    <tr>\n",
       "      <th>4</th>\n",
       "      <td>2000_04_22</td>\n",
       "      <td>-95.31462</td>\n",
       "      <td>43.308903</td>\n",
       "      <td>956361600000</td>\n",
       "      <td>2372.0</td>\n",
       "    </tr>\n",
       "  </tbody>\n",
       "</table>\n",
       "</div>"
      ],
      "text/plain": [
       "           id  longitude   latitude          time    NDVI\n",
       "0  2000_02_18  -95.31462  43.308903  950832000000  2020.0\n",
       "1  2000_03_05  -95.31462  43.308903  952214400000  1929.0\n",
       "2  2000_03_21  -95.31462  43.308903  953596800000  1991.0\n",
       "3  2000_04_06  -95.31462  43.308903  954979200000  2058.0\n",
       "4  2000_04_22  -95.31462  43.308903  956361600000  2372.0"
      ]
     },
     "execution_count": 24,
     "metadata": {},
     "output_type": "execute_result"
    }
   ],
   "source": [
    "# corn field in Iowa\n",
    "corn = ee.Geometry.Point([-95.314118,43.309286])\n",
    "\n",
    "out = smoothCollection.select('NDVI').getRegion(corn,250).getInfo()\n",
    "\n",
    "df = pd.DataFrame(out[1:])\n",
    "df.columns = out[0]\n",
    "df.head(5)"
   ]
  },
  {
   "cell_type": "code",
   "execution_count": 25,
   "metadata": {},
   "outputs": [],
   "source": [
    "date = []\n",
    "for i in range(df.shape[0]):\n",
    "    date.append(pd.Timestamp(df.time[i]*1000000))\n",
    "    \n",
    "ts = pd.Series(np.array(df.NDVI)*0.0001,index=date,name='lst')\n",
    "ts.index.name = 'Date'"
   ]
  },
  {
   "cell_type": "code",
   "execution_count": 26,
   "metadata": {},
   "outputs": [
    {
     "name": "stdout",
     "output_type": "stream",
     "text": [
      "Populating the interactive namespace from numpy and matplotlib\n"
     ]
    },
    {
     "data": {
      "text/plain": [
       "<matplotlib.axes._subplots.AxesSubplot at 0x11382f590>"
      ]
     },
     "execution_count": 26,
     "metadata": {},
     "output_type": "execute_result"
    },
    {
     "data": {
      "image/png": "[encoded data removed]",
      "text/plain": [
       "<matplotlib.figure.Figure at 0x1137ff290>"
      ]
     },
     "metadata": {},
     "output_type": "display_data"
    }
   ],
   "source": [
    "%pylab inline\n",
    "ts.dropna().plot()"
   ]
  },
  {
   "cell_type": "code",
   "execution_count": 27,
   "metadata": {},
   "outputs": [],
   "source": [
    "from keras.models import Sequential\n",
    "from keras.layers import Dense\n",
    "from keras.layers import LSTM\n",
    "from sklearn.preprocessing import MinMaxScaler\n",
    "from sklearn.metrics import mean_squared_error"
   ]
  },
  {
   "cell_type": "code",
   "execution_count": 38,
   "metadata": {},
   "outputs": [],
   "source": [
    "dataset = ts.dropna().values.astype('float32')[:,np.newaxis]"
   ]
  },
  {
   "cell_type": "code",
   "execution_count": 39,
   "metadata": {},
   "outputs": [],
   "source": [
    "# normalize the dataset\n",
    "scaler = MinMaxScaler(feature_range=(0, 1))\n",
    "dataset = scaler.fit_transform(dataset)"
   ]
  },
  {
   "cell_type": "code",
   "execution_count": 41,
   "metadata": {},
   "outputs": [
    {
     "name": "stdout",
     "output_type": "stream",
     "text": [
      "(174, 87)\n"
     ]
    }
   ],
   "source": [
    "# split into train and test sets\n",
    "train_size = int(len(dataset) * 0.67)\n",
    "test_size = len(dataset) - train_size\n",
    "train, test = dataset[0:train_size,:], dataset[train_size:len(dataset),:]\n",
    "print(len(train), len(test))"
   ]
  },
  {
   "cell_type": "code",
   "execution_count": 42,
   "metadata": {},
   "outputs": [],
   "source": [
    "# convert an array of values into a dataset matrix\n",
    "def create_dataset(dataset, look_back=1):\n",
    "    dataX, dataY = [], []\n",
    "    for i in range(len(dataset)-look_back-1):\n",
    "        a = dataset[i:(i+look_back), 0]\n",
    "        dataX.append(a)\n",
    "        dataY.append(dataset[i + look_back, 0])\n",
    "    return numpy.array(dataX), numpy.array(dataY)"
   ]
  },
  {
   "cell_type": "code",
   "execution_count": 43,
   "metadata": {},
   "outputs": [],
   "source": [
    "look_back = 1\n",
    "trainX, trainY = create_dataset(train, look_back)\n",
    "testX, testY = create_dataset(test, look_back)"
   ]
  },
  {
   "cell_type": "code",
   "execution_count": 44,
   "metadata": {},
   "outputs": [],
   "source": [
    "# reshape input to be [samples, time steps, features]\n",
    "trainX = numpy.reshape(trainX, (trainX.shape[0], 1, trainX.shape[1]))\n",
    "testX = numpy.reshape(testX, (testX.shape[0], 1, testX.shape[1]))"
   ]
  },
  {
   "cell_type": "code",
   "execution_count": 45,
   "metadata": {},
   "outputs": [
    {
     "name": "stdout",
     "output_type": "stream",
     "text": [
      "Epoch 1/100\n",
      " - 1s - loss: 0.2281\n",
      "Epoch 2/100\n",
      " - 1s - loss: 0.1417\n",
      "Epoch 3/100\n",
      " - 1s - loss: 0.1114\n",
      "Epoch 4/100\n",
      " - 1s - loss: 0.0953\n",
      "Epoch 5/100\n",
      " - 1s - loss: 0.0823\n",
      "Epoch 6/100\n",
      " - 1s - loss: 0.0720\n",
      "Epoch 7/100\n",
      " - 1s - loss: 0.0635\n",
      "Epoch 8/100\n",
      " - 1s - loss: 0.0568\n",
      "Epoch 9/100\n",
      " - 1s - loss: 0.0520\n",
      "Epoch 10/100\n",
      " - 1s - loss: 0.0494\n",
      "Epoch 11/100\n",
      " - 1s - loss: 0.0477\n",
      "Epoch 12/100\n",
      " - 1s - loss: 0.0465\n",
      "Epoch 13/100\n",
      " - 1s - loss: 0.0462\n",
      "Epoch 14/100\n",
      " - 1s - loss: 0.0457\n",
      "Epoch 15/100\n",
      " - 1s - loss: 0.0456\n",
      "Epoch 16/100\n",
      " - 1s - loss: 0.0456\n",
      "Epoch 17/100\n",
      " - 1s - loss: 0.0455\n",
      "Epoch 18/100\n",
      " - 1s - loss: 0.0455\n",
      "Epoch 19/100\n",
      " - 1s - loss: 0.0455\n",
      "Epoch 20/100\n",
      " - 1s - loss: 0.0455\n",
      "Epoch 21/100\n",
      " - 1s - loss: 0.0454\n",
      "Epoch 22/100\n",
      " - 1s - loss: 0.0452\n",
      "Epoch 23/100\n",
      " - 1s - loss: 0.0455\n",
      "Epoch 24/100\n",
      " - 1s - loss: 0.0454\n",
      "Epoch 25/100\n",
      " - 1s - loss: 0.0454\n",
      "Epoch 26/100\n",
      " - 1s - loss: 0.0450\n",
      "Epoch 27/100\n",
      " - 1s - loss: 0.0453\n",
      "Epoch 28/100\n",
      " - 1s - loss: 0.0453\n",
      "Epoch 29/100\n",
      " - 1s - loss: 0.0457\n",
      "Epoch 30/100\n",
      " - 1s - loss: 0.0451\n",
      "Epoch 31/100\n",
      " - 1s - loss: 0.0454\n",
      "Epoch 32/100\n",
      " - 1s - loss: 0.0454\n",
      "Epoch 33/100\n",
      " - 1s - loss: 0.0450\n",
      "Epoch 34/100\n",
      " - 1s - loss: 0.0450\n",
      "Epoch 35/100\n",
      " - 1s - loss: 0.0450\n",
      "Epoch 36/100\n",
      " - 1s - loss: 0.0451\n",
      "Epoch 37/100\n",
      " - 1s - loss: 0.0450\n",
      "Epoch 38/100\n",
      " - 1s - loss: 0.0450\n",
      "Epoch 39/100\n",
      " - 1s - loss: 0.0451\n",
      "Epoch 40/100\n",
      " - 1s - loss: 0.0453\n",
      "Epoch 41/100\n",
      " - 1s - loss: 0.0449\n",
      "Epoch 42/100\n",
      " - 1s - loss: 0.0448\n",
      "Epoch 43/100\n",
      " - 1s - loss: 0.0450\n",
      "Epoch 44/100\n",
      " - 1s - loss: 0.0451\n",
      "Epoch 45/100\n",
      " - 1s - loss: 0.0447\n",
      "Epoch 46/100\n",
      " - 1s - loss: 0.0448\n",
      "Epoch 47/100\n",
      " - 1s - loss: 0.0449\n",
      "Epoch 48/100\n",
      " - 1s - loss: 0.0448\n",
      "Epoch 49/100\n",
      " - 1s - loss: 0.0448\n",
      "Epoch 50/100\n",
      " - 1s - loss: 0.0448\n",
      "Epoch 51/100\n",
      " - 1s - loss: 0.0446\n",
      "Epoch 52/100\n",
      " - 1s - loss: 0.0450\n",
      "Epoch 53/100\n",
      " - 1s - loss: 0.0444\n",
      "Epoch 54/100\n",
      " - 1s - loss: 0.0447\n",
      "Epoch 55/100\n",
      " - 1s - loss: 0.0447\n",
      "Epoch 56/100\n",
      " - 1s - loss: 0.0447\n",
      "Epoch 57/100\n",
      " - 1s - loss: 0.0447\n",
      "Epoch 58/100\n",
      " - 1s - loss: 0.0446\n",
      "Epoch 59/100\n",
      " - 1s - loss: 0.0445\n",
      "Epoch 60/100\n",
      " - 1s - loss: 0.0446\n",
      "Epoch 61/100\n",
      " - 1s - loss: 0.0446\n",
      "Epoch 62/100\n",
      " - 1s - loss: 0.0445\n",
      "Epoch 63/100\n",
      " - 1s - loss: 0.0446\n",
      "Epoch 64/100\n",
      " - 1s - loss: 0.0446\n",
      "Epoch 65/100\n",
      " - 1s - loss: 0.0450\n",
      "Epoch 66/100\n",
      " - 1s - loss: 0.0443\n",
      "Epoch 67/100\n",
      " - 1s - loss: 0.0447\n",
      "Epoch 68/100\n",
      " - 1s - loss: 0.0443\n",
      "Epoch 69/100\n",
      " - 1s - loss: 0.0445\n",
      "Epoch 70/100\n",
      " - 1s - loss: 0.0447\n",
      "Epoch 71/100\n",
      " - 1s - loss: 0.0446\n",
      "Epoch 72/100\n",
      " - 1s - loss: 0.0446\n",
      "Epoch 73/100\n",
      " - 1s - loss: 0.0446\n",
      "Epoch 74/100\n",
      " - 1s - loss: 0.0448\n",
      "Epoch 75/100\n",
      " - 1s - loss: 0.0444\n",
      "Epoch 76/100\n",
      " - 1s - loss: 0.0443\n",
      "Epoch 77/100\n",
      " - 1s - loss: 0.0446\n",
      "Epoch 78/100\n",
      " - 1s - loss: 0.0446\n",
      "Epoch 79/100\n",
      " - 1s - loss: 0.0444\n",
      "Epoch 80/100\n",
      " - 1s - loss: 0.0441\n",
      "Epoch 81/100\n",
      " - 1s - loss: 0.0443\n",
      "Epoch 82/100\n",
      " - 1s - loss: 0.0442\n",
      "Epoch 83/100\n",
      " - 1s - loss: 0.0443\n",
      "Epoch 84/100\n",
      " - 1s - loss: 0.0442\n",
      "Epoch 85/100\n",
      " - 1s - loss: 0.0441\n",
      "Epoch 86/100\n",
      " - 1s - loss: 0.0443\n",
      "Epoch 87/100\n",
      " - 1s - loss: 0.0440\n",
      "Epoch 88/100\n",
      " - 1s - loss: 0.0444\n",
      "Epoch 89/100\n",
      " - 1s - loss: 0.0440\n",
      "Epoch 90/100\n",
      " - 1s - loss: 0.0441\n",
      "Epoch 91/100\n",
      " - 1s - loss: 0.0443\n",
      "Epoch 92/100\n",
      " - 1s - loss: 0.0440\n",
      "Epoch 93/100\n",
      " - 1s - loss: 0.0441\n",
      "Epoch 94/100\n",
      " - 1s - loss: 0.0440\n",
      "Epoch 95/100\n",
      " - 1s - loss: 0.0438\n",
      "Epoch 96/100\n",
      " - 1s - loss: 0.0443\n",
      "Epoch 97/100\n",
      " - 1s - loss: 0.0438\n",
      "Epoch 98/100\n",
      " - 1s - loss: 0.0439\n",
      "Epoch 99/100\n",
      " - 1s - loss: 0.0438\n",
      "Epoch 100/100\n",
      " - 1s - loss: 0.0441\n"
     ]
    },
    {
     "data": {
      "text/plain": [
       "<keras.callbacks.History at 0x1a15ae8dd0>"
      ]
     },
     "execution_count": 45,
     "metadata": {},
     "output_type": "execute_result"
    }
   ],
   "source": [
    "# create and fit the LSTM network\n",
    "model = Sequential()\n",
    "model.add(LSTM(4, input_shape=(1, look_back)))\n",
    "model.add(Dense(1))\n",
    "model.compile(loss='mean_squared_error', optimizer='adam')\n",
    "model.fit(trainX, trainY, epochs=100, batch_size=1, verbose=2)"
   ]
  },
  {
   "cell_type": "code",
   "execution_count": 46,
   "metadata": {},
   "outputs": [
    {
     "name": "stdout",
     "output_type": "stream",
     "text": [
      "Train Score: 0.15 RMSE\n",
      "Test Score: 0.18 RMSE\n"
     ]
    }
   ],
   "source": [
    "# make predictions\n",
    "trainPredict = model.predict(trainX)\n",
    "testPredict = model.predict(testX)\n",
    "# invert predictions\n",
    "trainPredict = scaler.inverse_transform(trainPredict)\n",
    "trainY = scaler.inverse_transform([trainY])\n",
    "testPredict = scaler.inverse_transform(testPredict)\n",
    "testY = scaler.inverse_transform([testY])\n",
    "# calculate root mean squared error\n",
    "trainScore = math.sqrt(mean_squared_error(trainY[0], trainPredict[:,0]))\n",
    "print('Train Score: %.2f RMSE' % (trainScore))\n",
    "testScore = math.sqrt(mean_squared_error(testY[0], testPredict[:,0]))\n",
    "print('Test Score: %.2f RMSE' % (testScore))"
   ]
  },
  {
   "cell_type": "code",
   "execution_count": 47,
   "metadata": {},
   "outputs": [
    {
     "data": {
      "image/png": "[encoded data removed]",
      "text/plain": [
       "<matplotlib.figure.Figure at 0x1a16320d90>"
      ]
     },
     "metadata": {},
     "output_type": "display_data"
    }
   ],
   "source": [
    "# shift train predictions for plotting\n",
    "trainPredictPlot = numpy.empty_like(dataset)\n",
    "trainPredictPlot[:, :] = numpy.nan\n",
    "trainPredictPlot[look_back:len(trainPredict)+look_back, :] = trainPredict\n",
    "# shift test predictions for plotting\n",
    "testPredictPlot = numpy.empty_like(dataset)\n",
    "testPredictPlot[:, :] = numpy.nan\n",
    "testPredictPlot[len(trainPredict)+(look_back*2)+1:len(dataset)-1, :] = testPredict\n",
    "# plot baseline and predictions\n",
    "plt.plot(scaler.inverse_transform(dataset))\n",
    "plt.plot(trainPredictPlot)\n",
    "plt.plot(testPredictPlot)\n",
    "plt.show()"
   ]
  },
  {
   "cell_type": "code",
   "execution_count": null,
   "metadata": {},
   "outputs": [],
   "source": []
  }
 ],
 "metadata": {
  "kernelspec": {
   "display_name": "Python 2",
   "language": "python",
   "name": "python2"
  },
  "language_info": {
   "codemirror_mode": {
    "name": "ipython",
    "version": 2
   },
   "file_extension": ".py",
   "mimetype": "text/x-python",
   "name": "python",
   "nbconvert_exporter": "python",
   "pygments_lexer": "ipython2",
   "version": "2.7.14"
  }
 },
 "nbformat": 4,
 "nbformat_minor": 2
}
